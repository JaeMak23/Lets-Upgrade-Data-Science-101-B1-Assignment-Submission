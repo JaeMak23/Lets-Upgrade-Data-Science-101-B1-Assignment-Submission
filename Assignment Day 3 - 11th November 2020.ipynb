{
 "cells": [
  {
   "cell_type": "markdown",
   "metadata": {},
   "source": [
    "# Assignment Day 3"
   ]
  },
  {
   "cell_type": "code",
   "execution_count": 1,
   "metadata": {},
   "outputs": [
    {
     "name": "stdout",
     "output_type": "stream",
     "text": [
      "[ 2  5  8 11 14 17 20 23 26 29 32 35 38 41 44 47]\n"
     ]
    }
   ],
   "source": [
    "# Questions 1: \n",
    "# Create a numpy array starting from 2 till 50 with a stepsize of 3. \n",
    "\n",
    "import numpy as np\n",
    "\n",
    "arr=np.arange(2,50,3)\n",
    "print(arr)"
   ]
  },
  {
   "cell_type": "code",
   "execution_count": 2,
   "metadata": {},
   "outputs": [
    {
     "name": "stdout",
     "output_type": "stream",
     "text": [
      "Enter 5 elements for list 1\n",
      "1\n",
      "3\n",
      "5\n",
      "7\n",
      "9\n",
      "list 1 is :  [1, 3, 5, 7, 9]\n",
      "\n",
      "Enter 5 elements for list 2\n",
      "2\n",
      "4\n",
      "6\n",
      "8\n",
      "10\n",
      "list 2 is :  [2, 4, 6, 8, 10]\n",
      "\n",
      "After concatenate\n",
      "[ 1  3  5  7  9  2  4  6  8 10]\n",
      "\n",
      "After sorting\n",
      "[ 1  2  3  4  5  6  7  8  9 10]\n"
     ]
    }
   ],
   "source": [
    "# Questions 2:\n",
    "# Accept two lists of 5 elements each from the user.\n",
    "# Convert them to numpy arrays.\n",
    "# Concatenate these arrays and print it. Also sort these arrays and print it.\n",
    "\n",
    "import numpy as np\n",
    "\n",
    "lst1 = []\n",
    "lst2 = []\n",
    "\n",
    "print(\"Enter 5 elements for list 1\")\n",
    "for i in range(0, 5):   \n",
    "    ele = int(input())   \n",
    "    lst1.append(ele)    \n",
    "print(\"list 1 is : \",lst1)\n",
    "print()\n",
    " \n",
    "print(\"Enter 5 elements for list 2\")\n",
    "for i in range(0, 5):    \n",
    "    ele = int(input())   \n",
    "    lst2.append(ele)\n",
    "print(\"list 2 is : \",lst2)\n",
    "print()\n",
    "\n",
    "arr1=np.array(lst1)\n",
    "arr2=np.array(lst2)\n",
    "\n",
    "print(\"After concatenate\")\n",
    "arr3=np.concatenate((arr1,arr2))\n",
    "print(arr3)\n",
    "print()\n",
    "\n",
    "print(\"After sorting\")\n",
    "print(np.sort(arr3))"
   ]
  },
  {
   "cell_type": "code",
   "execution_count": 3,
   "metadata": {},
   "outputs": [
    {
     "name": "stdout",
     "output_type": "stream",
     "text": [
      "The dimensions of a ndarray is :  2\n",
      "Size if ndarray is : 9\n"
     ]
    }
   ],
   "source": [
    "# Questions 3: \n",
    "# Write a code snippet to find the dimensions of a ndarray and its size.\n",
    "\n",
    "import numpy as np\n",
    "\n",
    "arr=np.array([[1,2,3],[2,3,4],[3,4,5]])\n",
    "\n",
    "print(\"The dimensions of a ndarray is : \",arr.ndim)\n",
    "print(\"Size if ndarray is :\",arr.size)"
   ]
  },
  {
   "cell_type": "code",
   "execution_count": null,
   "metadata": {},
   "outputs": [],
   "source": [
    "# Questions 4: \n",
    "# How to convert a 1D array into a 2D array? Demonstrate with the help of a code snippet\n",
    "# Hint: np.newaxis, np.expand_dims \n",
    "\n",
    "import numpy as np \n",
    "\n",
    "#1d Array\n",
    "arr_1d= np.array()"
   ]
  }
 ],
 "metadata": {
  "kernelspec": {
   "display_name": "Python 3",
   "language": "python",
   "name": "python3"
  },
  "language_info": {
   "codemirror_mode": {
    "name": "ipython",
    "version": 3
   },
   "file_extension": ".py",
   "mimetype": "text/x-python",
   "name": "python",
   "nbconvert_exporter": "python",
   "pygments_lexer": "ipython3",
   "version": "3.8.3"
  }
 },
 "nbformat": 4,
 "nbformat_minor": 4
}
