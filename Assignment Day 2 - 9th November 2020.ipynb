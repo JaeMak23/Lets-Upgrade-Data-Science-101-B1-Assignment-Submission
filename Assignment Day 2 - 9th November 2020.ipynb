{
 "cells": [
  {
   "cell_type": "code",
   "execution_count": 2,
   "metadata": {},
   "outputs": [
    {
     "name": "stdout",
     "output_type": "stream",
     "text": [
      "11\n",
      "22\n",
      "33\n",
      "44\n",
      "55\n",
      "66\n",
      "77\n",
      "88\n",
      "99\n",
      "100\n",
      "[22, 44, 66, 88, 100]\n"
     ]
    }
   ],
   "source": [
    "# Questions 1:\n",
    "# Create an empty list. Accept 10 numbers from the user and append to it the list if it is an even number\n",
    "\n",
    "l=[]\n",
    "for i in range(10):\n",
    "    x=int(input())\n",
    "    if x%2==0:\n",
    "        l.append(x)\n",
    "print(l)"
   ]
  },
  {
   "cell_type": "code",
   "execution_count": 5,
   "metadata": {},
   "outputs": [
    {
     "name": "stdout",
     "output_type": "stream",
     "text": [
      "['A', 'l', 'p', 'h', 'a']\n",
      "<class 'list'>\n",
      "\n",
      "[0, 1, 4, 9, 16, 25, 36, 49, 64, 81]\n",
      "<class 'list'>\n"
     ]
    }
   ],
   "source": [
    "# Questions 2:\n",
    "# Create a notebook on LIST COMPREHENSION. This exercise is to put you in a Self learning mode\n",
    "\n",
    "a = [ letter for letter in 'Alpha' ]\n",
    "print(a)\n",
    "print(type(a))\n",
    "print()\n",
    "\n",
    "sq = [x**2 for x in range(10)]\n",
    "print(sq)\n",
    "print(type(sq))"
   ]
  },
  {
   "cell_type": "code",
   "execution_count": 6,
   "metadata": {},
   "outputs": [
    {
     "name": "stdout",
     "output_type": "stream",
     "text": [
      "8\n",
      "{1: 1, 2: 4, 3: 9, 4: 16, 5: 25, 6: 36, 7: 49, 8: 64}\n"
     ]
    }
   ],
   "source": [
    "# Questions 3:\n",
    "\n",
    "n=int(input())\n",
    "d={}\n",
    "\n",
    "for i in range(n):   \n",
    "    j=i+1\n",
    "    d[j]=j*j\n",
    "print(d)"
   ]
  },
  {
   "cell_type": "code",
   "execution_count": 7,
   "metadata": {},
   "outputs": [
    {
     "name": "stdout",
     "output_type": "stream",
     "text": [
      "4\n",
      "UP 5\n",
      "DOWN 3\n",
      "LEFT 3\n",
      "RIGHT 2\n",
      "2\n"
     ]
    }
   ],
   "source": [
    "# Questions 4:\n",
    "\n",
    "import math\n",
    "\n",
    "pos=[0,0]\n",
    "moves={\"UP\":[0,1],\"DOWN\":[0,-1],\"LEFT\":[-1,0],\"RIGHT\":[1,0]}\n",
    "\n",
    "n=int(input())\n",
    "l=[]\n",
    "\n",
    "for i in range(n):\n",
    "    x=input()\n",
    "    l.append(x)\n",
    "    \n",
    "for item in l:\n",
    "    p=item.split(\" \")\n",
    "    mv=p[0]\n",
    "    value=p[1]    \n",
    "    if mv in moves and value.isnumeric():\n",
    "        pos[0] += moves[mv][0]*int(value)\n",
    "        pos[1] += moves[mv][1]*int(value)\n",
    "\n",
    "dist=math.sqrt(pos[0]**2 + pos[1]**2)\n",
    "print(round(dist))"
   ]
  },
  {
   "cell_type": "code",
   "execution_count": null,
   "metadata": {},
   "outputs": [],
   "source": []
  }
 ],
 "metadata": {
  "kernelspec": {
   "display_name": "Python 3",
   "language": "python",
   "name": "python3"
  },
  "language_info": {
   "codemirror_mode": {
    "name": "ipython",
    "version": 3
   },
   "file_extension": ".py",
   "mimetype": "text/x-python",
   "name": "python",
   "nbconvert_exporter": "python",
   "pygments_lexer": "ipython3",
   "version": "3.8.3"
  }
 },
 "nbformat": 4,
 "nbformat_minor": 4
}
